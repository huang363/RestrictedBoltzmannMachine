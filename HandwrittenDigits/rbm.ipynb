{
 "cells": [
  {
   "cell_type": "markdown",
   "metadata": {},
   "source": [
    "Restricted Boltzmann Machine Implementation"
   ]
  },
  {
   "cell_type": "markdown",
   "metadata": {},
   "source": [
    "Defining the dependencies"
   ]
  },
  {
   "cell_type": "code",
   "execution_count": 6,
   "metadata": {},
   "outputs": [],
   "source": [
    "import tensorflow as tf\n",
    "import numpy as np\n",
    "import matplotlib.pyplot as plt"
   ]
  },
  {
   "cell_type": "markdown",
   "metadata": {},
   "source": [
    "defining the RBM class"
   ]
  },
  {
   "cell_type": "code",
   "execution_count": 11,
   "metadata": {},
   "outputs": [],
   "source": [
    "class RBM():\n",
    "\n",
    "\tdef __init__(self, learningRate, k, visibleSize, hiddenSize):\n",
    "\t\tself.k = k\t# number of gibbs sampling execution\n",
    "\t\tself.learningRate = learningRate\n",
    "\t\tself.visibleSize = visibleSize\n",
    "\t\tself.hiddenSize = hiddenSize\n",
    "\n",
    "\tdef gibbsSampling(self,negativeVisble):\n",
    "\t\tfor k in range(self.k):\n",
    "\t\t\tnegativeHidden = np.random.binomial(n=1, p=pInputGivenHidden(negativeVisble))\n",
    "\t\t\tnegativeVisble = np.random.binomial(n=1, p=pHiddenGivenInput(negativeHidden))\n",
    "\t\treturn negativeVisble\n",
    "\n",
    "\tdef sigm(x):\n",
    "\t\treturn v1/(1 + np.exp(-x))\n",
    "\n",
    "\tdef pInputGivenHidden(self,input):\n",
    "\t\treturn sigm(self.visibleBias+tf.matmul(input,tf.transpose(self.w)))\n",
    "\n",
    "\tdef pHiddenGivenInput(self,hidden):\n",
    "\t\treturn sigm(self.hiddenBias+tf.matmul(self.w,hidden))\n",
    "\n",
    "\tdef updateWeight(self, negativeVisible, negativeHidden):\n",
    "\t\tself.visibleBias += self.learningRate*(self.visibleLayer - negativeVisible)\n",
    "\t\tself.hiddenBias += self.learningRate*(self.hiddenLayer - negativeHidden)\n",
    "\t\tself.weight += tf.matmul(tf.transpose(self.visibleLayer), self.hiddenLayer) - np.outer(negativeVisible,negativeHidden)\n",
    "\n",
    "\tdef initialize(self,input):\n",
    "\t\tself.visibleLayer = input\n",
    "\t\tself.hiddenLayer = pHiddenGivenInput(input)\n",
    "\t\tself.visibleBias = tf.Variable(tf.zeros([1, self.visibleLayer]),tf.float32, name=\"visible_bias\")\n",
    "\t\tself.hiddenBias = tf.Variable(tf.zeros([1, self.hiddenBias]),tf.float32, name=\"hidden_bias\")\n",
    "\t\tself.w = tf.Variable(tf.random_normal([self.visibleLayer, self.hiddenBias], mean=0., stddev=4 * np.sqrt(6. / (self.n_visible + self.n_hidden))), name=\"weights\")\n",
    "        \n",
    "\tdef training(self,input):\n",
    "\t\tinitialize(input);\n",
    "\t\tvisible = np.copy(self.visibleLayer)\n",
    "\n",
    "\t\tnegativeVisible = self.gibbsSampling(visible)\n",
    "\t\tnegativeHidden = pHiddenGivenInput(negativeVisible)\n",
    "\t\tupdateWeight(negativeVisible,negativeHidden)\n",
    "\n",
    "\tdef plot(self):\n",
    "\t\treturn 0\n",
    "\n",
    "\tdef saveModel(self):\n",
    "\t\tsave = tf.train.Saver({\"weights\":self.w, \"visible_bias\":self.visibleBias, \"hidden_bias\":self.hiddenBias})\n",
    "\t\treturn save"
   ]
  },
  {
   "cell_type": "markdown",
   "metadata": {},
   "source": [
    "data setup"
   ]
  },
  {
   "cell_type": "code",
   "execution_count": 10,
   "metadata": {
    "scrolled": false
   },
   "outputs": [],
   "source": [
    "if __name__ == '__main__':\n",
    "    numSteps = 1\n",
    "    (visibles, classifications), (Testvisibles, testClassifications) = tf.keras.datasets.mnist.load_data()\n",
    "    visibles = visibles.reshape(visibles.shape[0],784)"
   ]
  },
  {
   "cell_type": "markdown",
   "metadata": {},
   "source": [
    "Initial Values Description:\n",
    "\n",
    "Weight matrix: \"small random values chosen from a zero-mean Gaussian with a standard deviation of about 0.01\"\n",
    "\n",
    "Visiable/Hidden bias: log(x/(1-x))\n",
    "    for visible layer, x is pi, the proportion of training vectors\n",
    "    for hidden layer, x is t, sparsity probability \n",
    "    "
   ]
  },
  {
   "cell_type": "code",
   "execution_count": null,
   "metadata": {},
   "outputs": [],
   "source": [
    "    learningRate = 0.01\n",
    "    k = 1\n",
    "    visibleSize = 784\n",
    "    hiddenSize = 144\n",
    "    stepNumber = 1\n",
    "    \n",
    "    model = RBM(learningRate, k, visibleSize, hiddenSize)"
   ]
  },
  {
   "cell_type": "markdown",
   "metadata": {
    "collapsed": true
   },
   "source": [
    "Training"
   ]
  },
  {
   "cell_type": "code",
   "execution_count": null,
   "metadata": {},
   "outputs": [],
   "source": [
    "    for item in self.dataset:\n",
    "        session = tf.InteractiveSession()\n",
    "        input = tf.placeholder(tf.float32, shape=[None,visibleSize], name=\"visible_layer\")\n",
    "        sess.run(tf.global_variables_initializer())\n",
    "        model.train(input)\n",
    "        sess.run(train, feed_dict = {input: item})\n",
    "        save = saveModel()\n",
    "        save.save(sess,\"rbm-cd/\"+str(stepNumber)+\".ckpt\",global_step = step)\n",
    "        print(\"Step %d Model Saved!\",stepNumber)\n",
    "        stepNumber++"
   ]
  }
 ],
 "metadata": {
  "kernelspec": {
   "display_name": "Python 3",
   "language": "python",
   "name": "python3"
  },
  "language_info": {
   "codemirror_mode": {
    "name": "ipython",
    "version": 3
   },
   "file_extension": ".py",
   "mimetype": "text/x-python",
   "name": "python",
   "nbconvert_exporter": "python",
   "pygments_lexer": "ipython3",
   "version": "3.6.8"
  }
 },
 "nbformat": 4,
 "nbformat_minor": 2
}

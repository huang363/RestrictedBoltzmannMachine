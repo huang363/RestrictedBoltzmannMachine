{
 "cells": [
  {
   "cell_type": "markdown",
   "metadata": {},
   "source": [
    "Restricted Boltzmann Machine Implementation"
   ]
  },
  {
   "cell_type": "markdown",
   "metadata": {},
   "source": [
    "Defining the dependencies"
   ]
  },
  {
   "cell_type": "code",
   "execution_count": 4,
   "metadata": {},
   "outputs": [],
   "source": [
    "import tensorflow as tf\n",
    "import numpy as np\n",
    "import matplotlib.pyplot as plt"
   ]
  },
  {
   "cell_type": "markdown",
   "metadata": {},
   "source": [
    "defining the RBM class"
   ]
  },
  {
   "cell_type": "code",
   "execution_count": null,
   "metadata": {
    "collapsed": true
   },
   "outputs": [],
   "source": [
    "class RBM():\n",
    "\n",
    "\tdef __init__(self, learningRate = 0.01, k=1, w\n",
    "\t\t\t\tvisibleLayer, visibleBias, visibleSize,\n",
    "\t\t\t\thiddenLayer, hiddenBias, hiddenSize,\n",
    "                modelDir):\n",
    "\t\tself.k = k\t# number of gibbs sampling execution\n",
    "\t\tself.w = w  # weight matrix of fully connected visible and hidden layer\n",
    "\t\tself.learningRate = learningRate\n",
    "\t\tself.visibleSize = visibleSize\n",
    "\t\tself.visibleLayer = visibleLayer\n",
    "\t\tself.visibleBias = visibleBias\n",
    "\t\tself.hiddenSize = hiddenSize\n",
    "\t\tself.hiddenLayer = hiddenLayer\n",
    "\t\tself.hiddenBias = hiddenBias\n",
    "        self.modelDir = modelDir\n",
    "\n",
    "\tdef gibbsSampling(self,negativeVisble):\n",
    "\t\tfor k in range(self.k):\n",
    "\t\t\tnegativeHidden = np.random.binomial(n=1, p=pInputGivenHidden(negativeVisble))\n",
    "\t\t\tnegativeVisble = np.random.binomial(n=1, p=pHiddenGivenInput(negativeHidden))\n",
    "\t\treturn negativeVisble\n",
    "\n",
    "\tdef sigm(x):\n",
    "\t\treturn v1/(1 + np.exp(-x))\n",
    "\n",
    "\tdef pInputGivenHidden(self,input):\n",
    "\t\treturn sigm(self.visibleBias+tf.matmul(input,tf.transpose(self.w)))\n",
    "\n",
    "\tdef pHiddenGivenInput(self,hidden):\n",
    "\t\treturn sigm(self.hiddenBias+tf.matmul(self.w,hidden))\n",
    "\n",
    "\tdef updateWeight(self, negativeVisible, negativeHidden):\n",
    "\t\tself.visibleBias += self.learningRate*(self.visibleLayer - negativeVisible)\n",
    "\t\tself.hiddenBias += self.learningRate*(self.hiddenLayer - negativeHidden)\n",
    "\t\tself.weight += tf.matmul(tf.transpose(self.visibleLayer), self.hiddenLayer) - np.outer(negativeVisible,negativeHidden)\n",
    "\n",
    "\tdef training(self,input):\n",
    "\t\tself.visibleLayer = item\n",
    "\t\tself.hiddenLayer = pHiddenGivenInput(item)\n",
    "\t\tvisible = np.copy(item)\n",
    "\n",
    "\t\tnegativeVisible = self.gibbsSampling(input)\n",
    "\t\tnegativeHidden = pHiddenGivenInput(negativeVisible)\n",
    "\t\tupdateWeight(negativeVisible,negativeHidden)\n",
    "\n",
    "\tdef plot(self):\n",
    "\t\treturn 0\n",
    "\n",
    "    def saveModel(self):\n",
    "        save = tf.train.Saver({\"weights\":self.w, \"visible_bias\":self.visibleBias, \"hidden_bias\":self.hiddenBias})\n",
    "        return save"
   ]
  },
  {
   "cell_type": "markdown",
   "metadata": {},
   "source": [
    "data setup"
   ]
  },
  {
   "cell_type": "code",
   "execution_count": 5,
   "metadata": {},
   "outputs": [
    {
     "name": "stdout",
     "output_type": "stream",
     "text": [
      "Downloading data from https://s3.amazonaws.com/img-datasets/mnist.npz\n",
      "11493376/11490434 [==============================]11493376/11490434 [==============================] - 4s 0us/step\n",
      "\n"
     ]
    }
   ],
   "source": [
    "if __name__ == '__main__':\n",
    "    numSteps = 1\n",
    "    (visibles, classifications), (Testvisibles, testClassifications) = tf.keras.datasets.mnist.load_data()\n",
    "    visibles = visibles.reshape(visibles.shape[0],784)"
   ]
  },
  {
   "cell_type": "code",
   "execution_count": null,
   "metadata": {
    "collapsed": true
   },
   "outputs": [],
   "source": [
    "    model = RBM(learningRate, k, w,\n",
    "\t\t\t\tvisibleLayer, visibleBias, visibleSize = [None,784],\n",
    "\t\t\t\thiddenLayer, hiddenBias, hiddenSize = [None,784])"
   ]
  },
  {
   "cell_type": "code",
   "execution_count": null,
   "metadata": {
    "collapsed": true
   },
   "outputs": [],
   "source": [
    "Training"
   ]
  },
  {
   "cell_type": "code",
   "execution_count": null,
   "metadata": {
    "collapsed": true
   },
   "outputs": [],
   "source": [
    "    for item in self.dataset:\n",
    "        session = tf.InteractiveSession()\n",
    "        input = tf.placeholder(tf.float32, shape=[None,visibleSize], name=\"visible_layer\")\n",
    "        sess.run(tf.global_variables_initializer())\n",
    "        model.train(input)\n",
    "        sess.run(train, feed_dict = {input: item})\n",
    "        save = saveModel()\n",
    "        save.save(sess,\"rbm-cd/\"+str(step)+\".ckpt\",global_step = step)\n",
    "        print(\"Step %d Model Saved!\",step)"
   ]
  }
 ],
 "metadata": {
  "kernelspec": {
   "display_name": "Python 3",
   "language": "python",
   "name": "python3"
  },
  "language_info": {
   "codemirror_mode": {
    "name": "ipython",
    "version": 3
   },
   "file_extension": ".py",
   "mimetype": "text/x-python",
   "name": "python",
   "nbconvert_exporter": "python",
   "pygments_lexer": "ipython3",
   "version": "3.6.3"
  }
 },
 "nbformat": 4,
 "nbformat_minor": 2
}
